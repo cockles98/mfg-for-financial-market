{
 "cells": [
  {
   "cell_type": "markdown",
   "metadata": {},
   "source": [
    "# Mean Field Game – Pipeline Calibrado"
   ]
  },
  {
   "cell_type": "markdown",
   "metadata": {},
   "source": [
    "Este notebook:\n",
    "\n",
    "1. Carrega os dados limpos da B3.\n",
    "2. Recalibra nu/phi/gamma_T com heurísticas mais conservadoras.\n",
    "3. Configura o grid/solver e executa o MFG (com opção de preço endógeno).\n",
    "4. Salva artefatos e gráficos em `notebooks_output/`."
   ]
  },
  {
   "cell_type": "code",
   "execution_count": 1,
   "metadata": {},
   "outputs": [],
   "source": [
    "from __future__ import annotations\n",
    "\n",
    "import json\n",
    "from datetime import datetime\n",
    "from pathlib import Path\n",
    "\n",
    "import matplotlib.pyplot as plt\n",
    "import numpy as np\n",
    "import pandas as pd\n",
    "import yaml\n",
    "\n",
    "from mfg_finance.grid import Grid1D\n",
    "from mfg_finance.models.hft import HFTParams, eta_from_m_alpha, initial_density\n",
    "from mfg_finance.price import solve_price_clearing\n",
    "from mfg_finance.solver import solve_mfg_picard\n",
    "from mfg_finance.viz import plot_alpha_cuts, plot_convergence, plot_density_time, plot_price, plot_value_time"
   ]
  },
  {
   "cell_type": "code",
   "execution_count": 4,
   "metadata": {},
   "outputs": [
    {
     "data": {
      "text/plain": [
       "WindowsPath('c:/Users/Cockles/Documents/GitHub/mfg-for-financial-market/notebooks_output/run-20251019-194056')"
      ]
     },
     "execution_count": 4,
     "metadata": {},
     "output_type": "execute_result"
    }
   ],
   "source": [
    "ROOT = Path.cwd().parent\n",
    "DATA_PROCESSED = ROOT / 'data' / 'processed'\n",
    "OUTPUT_BASE = ROOT / 'notebooks_output'\n",
    "OUTPUT_BASE.mkdir(parents=True, exist_ok=True)\n",
    "\n",
    "timestamp = datetime.now().strftime('run-%Y%m%d-%H%M%S')\n",
    "REPORT_DIR = OUTPUT_BASE / timestamp\n",
    "REPORT_DIR.mkdir(parents=True, exist_ok=True)\n",
    "REPORT_DIR"
   ]
  },
  {
   "cell_type": "code",
   "execution_count": 5,
   "metadata": {},
   "outputs": [
    {
     "data": {
      "text/plain": [
       "{'median_daily_std': 0.0445486261341157,\n",
       " 'median_annual_vol': 0.7071875160027775,\n",
       " 'upper_quartile_vol': 1.137724647706284,\n",
       " 'nu': 0.001985,\n",
       " 'phi': 0.035359,\n",
       " 'gamma_T': 0.568862}"
      ]
     },
     "execution_count": 5,
     "metadata": {},
     "output_type": "execute_result"
    }
   ],
   "source": [
    "# Calibração heurística (valores mais brandos para estabilidade)\n",
    "asset_summary = pd.read_csv(DATA_PROCESSED / 'cotahist_asset_summary.csv')\n",
    "asset_summary = asset_summary.replace([np.inf, -np.inf], np.nan).dropna(subset=['std_log_return', 'annualised_vol'])\n",
    "median_daily_std = float(asset_summary['std_log_return'].median())\n",
    "median_annual_vol = float(asset_summary['annualised_vol'].median())\n",
    "upper_quartile_vol = float(asset_summary['annualised_vol'].quantile(0.75))\n",
    "\n",
    "nu = median_daily_std ** 2\n",
    "phi = median_annual_vol / 20.0\n",
    "gamma_T = upper_quartile_vol * 0.5\n",
    "\n",
    "calibration_summary = {\n",
    "    'median_daily_std': median_daily_std,\n",
    "    'median_annual_vol': median_annual_vol,\n",
    "    'upper_quartile_vol': upper_quartile_vol,\n",
    "    'nu': round(nu, 6),\n",
    "    'phi': round(phi, 6),\n",
    "    'gamma_T': round(gamma_T, 6),\n",
    "}\n",
    "with open(REPORT_DIR / 'calibration.json', 'w', encoding='utf-8') as fp:\n",
    "    json.dump(calibration_summary, fp, indent=2)\n",
    "calibration_summary"
   ]
  },
  {
   "cell_type": "code",
   "execution_count": 6,
   "metadata": {},
   "outputs": [
    {
     "data": {
      "text/plain": [
       "{'nu': 0.001985,\n",
       " 'phi': 0.035359,\n",
       " 'gamma_T': 0.568862,\n",
       " 'eta0': 0.5,\n",
       " 'eta1': 0.8,\n",
       " 'm0_mean': 0.0,\n",
       " 'm0_std': 1.0}"
      ]
     },
     "execution_count": 6,
     "metadata": {},
     "output_type": "execute_result"
    }
   ],
   "source": [
    "# Atualiza baseline.yaml (opcional)\n",
    "baseline_path = ROOT / 'mfg-finance' / 'configs' / 'baseline.yaml'\n",
    "with open(baseline_path, 'r', encoding='utf-8') as fp:\n",
    "    baseline_cfg = yaml.safe_load(fp)\n",
    "baseline_cfg.setdefault('params', {})\n",
    "baseline_cfg['params']['nu'] = calibration_summary['nu']\n",
    "baseline_cfg['params']['phi'] = calibration_summary['phi']\n",
    "baseline_cfg['params']['gamma_T'] = calibration_summary['gamma_T']\n",
    "with open(baseline_path, 'w', encoding='utf-8') as fp:\n",
    "    yaml.safe_dump(baseline_cfg, fp, sort_keys=False)\n",
    "baseline_cfg['params']"
   ]
  },
  {
   "cell_type": "code",
   "execution_count": 8,
   "metadata": {},
   "outputs": [
    {
     "data": {
      "text/plain": [
       "(Grid1D(x_min=-5.0, x_max=5.0, nx=201, T=0.5, nt=150, bc='neumann', dx=0.04999999999999982, dt=0.0033333333333333335, x=array([-5.  , -4.95, -4.9 , -4.85, -4.8 , -4.75, -4.7 , -4.65, -4.6 ,\n",
       "        -4.55, -4.5 , -4.45, -4.4 , -4.35, -4.3 , -4.25, -4.2 , -4.15,\n",
       "        -4.1 , -4.05, -4.  , -3.95, -3.9 , -3.85, -3.8 , -3.75, -3.7 ,\n",
       "        -3.65, -3.6 , -3.55, -3.5 , -3.45, -3.4 , -3.35, -3.3 , -3.25,\n",
       "        -3.2 , -3.15, -3.1 , -3.05, -3.  , -2.95, -2.9 , -2.85, -2.8 ,\n",
       "        -2.75, -2.7 , -2.65, -2.6 , -2.55, -2.5 , -2.45, -2.4 , -2.35,\n",
       "        -2.3 , -2.25, -2.2 , -2.15, -2.1 , -2.05, -2.  , -1.95, -1.9 ,\n",
       "        -1.85, -1.8 , -1.75, -1.7 , -1.65, -1.6 , -1.55, -1.5 , -1.45,\n",
       "        -1.4 , -1.35, -1.3 , -1.25, -1.2 , -1.15, -1.1 , -1.05, -1.  ,\n",
       "        -0.95, -0.9 , -0.85, -0.8 , -0.75, -0.7 , -0.65, -0.6 , -0.55,\n",
       "        -0.5 , -0.45, -0.4 , -0.35, -0.3 , -0.25, -0.2 , -0.15, -0.1 ,\n",
       "        -0.05,  0.  ,  0.05,  0.1 ,  0.15,  0.2 ,  0.25,  0.3 ,  0.35,\n",
       "         0.4 ,  0.45,  0.5 ,  0.55,  0.6 ,  0.65,  0.7 ,  0.75,  0.8 ,\n",
       "         0.85,  0.9 ,  0.95,  1.  ,  1.05,  1.1 ,  1.15,  1.2 ,  1.25,\n",
       "         1.3 ,  1.35,  1.4 ,  1.45,  1.5 ,  1.55,  1.6 ,  1.65,  1.7 ,\n",
       "         1.75,  1.8 ,  1.85,  1.9 ,  1.95,  2.  ,  2.05,  2.1 ,  2.15,\n",
       "         2.2 ,  2.25,  2.3 ,  2.35,  2.4 ,  2.45,  2.5 ,  2.55,  2.6 ,\n",
       "         2.65,  2.7 ,  2.75,  2.8 ,  2.85,  2.9 ,  2.95,  3.  ,  3.05,\n",
       "         3.1 ,  3.15,  3.2 ,  3.25,  3.3 ,  3.35,  3.4 ,  3.45,  3.5 ,\n",
       "         3.55,  3.6 ,  3.65,  3.7 ,  3.75,  3.8 ,  3.85,  3.9 ,  3.95,\n",
       "         4.  ,  4.05,  4.1 ,  4.15,  4.2 ,  4.25,  4.3 ,  4.35,  4.4 ,\n",
       "         4.45,  4.5 ,  4.55,  4.6 ,  4.65,  4.7 ,  4.75,  4.8 ,  4.85,\n",
       "         4.9 ,  4.95,  5.  ]), t=array([0.        , 0.00333333, 0.00666667, 0.01      , 0.01333333,\n",
       "        0.01666667, 0.02      , 0.02333333, 0.02666667, 0.03      ,\n",
       "        0.03333333, 0.03666667, 0.04      , 0.04333333, 0.04666667,\n",
       "        0.05      , 0.05333333, 0.05666667, 0.06      , 0.06333333,\n",
       "        0.06666667, 0.07      , 0.07333333, 0.07666667, 0.08      ,\n",
       "        0.08333333, 0.08666667, 0.09      , 0.09333333, 0.09666667,\n",
       "        0.1       , 0.10333333, 0.10666667, 0.11      , 0.11333333,\n",
       "        0.11666667, 0.12      , 0.12333333, 0.12666667, 0.13      ,\n",
       "        0.13333333, 0.13666667, 0.14      , 0.14333333, 0.14666667,\n",
       "        0.15      , 0.15333333, 0.15666667, 0.16      , 0.16333333,\n",
       "        0.16666667, 0.17      , 0.17333333, 0.17666667, 0.18      ,\n",
       "        0.18333333, 0.18666667, 0.19      , 0.19333333, 0.19666667,\n",
       "        0.2       , 0.20333333, 0.20666667, 0.21      , 0.21333333,\n",
       "        0.21666667, 0.22      , 0.22333333, 0.22666667, 0.23      ,\n",
       "        0.23333333, 0.23666667, 0.24      , 0.24333333, 0.24666667,\n",
       "        0.25      , 0.25333333, 0.25666667, 0.26      , 0.26333333,\n",
       "        0.26666667, 0.27      , 0.27333333, 0.27666667, 0.28      ,\n",
       "        0.28333333, 0.28666667, 0.29      , 0.29333333, 0.29666667,\n",
       "        0.3       , 0.30333333, 0.30666667, 0.31      , 0.31333333,\n",
       "        0.31666667, 0.32      , 0.32333333, 0.32666667, 0.33      ,\n",
       "        0.33333333, 0.33666667, 0.34      , 0.34333333, 0.34666667,\n",
       "        0.35      , 0.35333333, 0.35666667, 0.36      , 0.36333333,\n",
       "        0.36666667, 0.37      , 0.37333333, 0.37666667, 0.38      ,\n",
       "        0.38333333, 0.38666667, 0.39      , 0.39333333, 0.39666667,\n",
       "        0.4       , 0.40333333, 0.40666667, 0.41      , 0.41333333,\n",
       "        0.41666667, 0.42      , 0.42333333, 0.42666667, 0.43      ,\n",
       "        0.43333333, 0.43666667, 0.44      , 0.44333333, 0.44666667,\n",
       "        0.45      , 0.45333333, 0.45666667, 0.46      , 0.46333333,\n",
       "        0.46666667, 0.47      , 0.47333333, 0.47666667, 0.48      ,\n",
       "        0.48333333, 0.48666667, 0.49      , 0.49333333, 0.49666667,\n",
       "        0.5       ])),\n",
       " HFTParams(nu=0.001985, phi=0.035359, gamma_T=0.568862, eta0=0.5, eta1=0.8, m0_mean=0.0, m0_std=1.0))"
      ]
     },
     "execution_count": 8,
     "metadata": {},
     "output_type": "execute_result"
    }
   ],
   "source": [
    "# Construção do grid/parâmetros (baseline leve)\n",
    "grid_cfg = baseline_cfg['grid']\n",
    "solver_cfg = baseline_cfg.get('solver', {})\n",
    "params_cfg = baseline_cfg['params']\n",
    "grid = Grid1D(\n",
    "    x_min=float(grid_cfg['x_min']),\n",
    "    x_max=float(grid_cfg['x_max']),\n",
    "    nx=int(grid_cfg['nx']),\n",
    "    T=float(grid_cfg['T']),\n",
    "    nt=int(grid_cfg['nt']),\n",
    "    bc=str(grid_cfg.get('bc', 'neumann')),\n",
    ")\n",
    "params = HFTParams(\n",
    "    nu=float(params_cfg['nu']),\n",
    "    phi=float(params_cfg['phi']),\n",
    "    gamma_T=float(params_cfg['gamma_T']),\n",
    "    eta0=float(params_cfg.get('eta0', 0.5)),\n",
    "    eta1=float(params_cfg.get('eta1', 0.8)),\n",
    "    m0_mean=float(params_cfg.get('m0_mean', 0.0)),\n",
    "    m0_std=float(params_cfg.get('m0_std', 1.0)),\n",
    ")\n",
    "grid, params"
   ]
  },
  {
   "cell_type": "code",
   "execution_count": 9,
   "metadata": {},
   "outputs": [
    {
     "data": {
      "text/plain": [
       "{'iterations': 120,\n",
       " 'final_error': 113.1437996319017,\n",
       " 'mean_abs_alpha': 0.8181875258917322,\n",
       " 'std_alpha': 3.3190957227011433,\n",
       " 'liquidity_proxy': 0.6068200556999621}"
      ]
     },
     "execution_count": 9,
     "metadata": {},
     "output_type": "execute_result"
    }
   ],
   "source": [
    "# Executa o solver com salvaguardas numéricas\n",
    "m0 = initial_density(grid, params)\n",
    "hjb_kwargs = {\n",
    "    'max_inner': 3,\n",
    "    'tol': 1e-8,\n",
    "    'max_dissipation': 1.0,\n",
    "    'alpha_cap': 1.0,\n",
    "    'value_cap': 40.0,\n",
    "    'value_relaxation': 0.5,\n",
    "}\n",
    "solver_mix = float(solver_cfg.get('mix', 0.6))\n",
    "U_all, M_all, alpha_all, errors, metrics = solve_mfg_picard(\n",
    "    grid,\n",
    "    params,\n",
    "    max_iter=int(solver_cfg.get('max_iter', 120)),\n",
    "    tol=float(solver_cfg.get('tol', 1e-6)),\n",
    "    mix=solver_mix,\n",
    "    m0=m0,\n",
    "    hjb_kwargs=hjb_kwargs,\n",
    "    eta_callback=eta_from_m_alpha,\n",
    ")\n",
    "run_metrics = {\n",
    "    'iterations': len(errors),\n",
    "    'final_error': float(errors[-1]) if errors else None,\n",
    "    **metrics,\n",
    "}\n",
    "run_metrics"
   ]
  },
  {
   "cell_type": "code",
   "execution_count": 10,
   "metadata": {},
   "outputs": [
    {
     "data": {
      "text/plain": [
       "{'iterations': 120,\n",
       " 'final_error': 113.1437996319017,\n",
       " 'mean_abs_alpha': 0.8181875258917322,\n",
       " 'std_alpha': 3.3190957227011433,\n",
       " 'liquidity_proxy': 0.6068200556999621,\n",
       " 'price_mean': -5.502418646749282,\n",
       " 'price_std': 0.3636086248062095}"
      ]
     },
     "execution_count": 10,
     "metadata": {},
     "output_type": "execute_result"
    }
   ],
   "source": [
    "# Clearing de preço (opcional)\n",
    "compute_price = True\n",
    "price_results = None\n",
    "if compute_price:\n",
    "    supply_schedule = np.zeros(len(grid.t))\n",
    "    sensitivity = 0.2\n",
    "    def alpha_field(idx: int, price: float) -> np.ndarray:\n",
    "        return alpha_all[idx] - sensitivity * price\n",
    "    prices = solve_price_clearing(alpha_field, M_all, supply_schedule, grid.dx)\n",
    "    price_results = prices\n",
    "    run_metrics['price_mean'] = float(np.mean(prices))\n",
    "    run_metrics['price_std'] = float(np.std(prices))\n",
    "run_metrics"
   ]
  },
  {
   "cell_type": "code",
   "execution_count": 11,
   "metadata": {},
   "outputs": [
    {
     "data": {
      "text/plain": [
       "['M_all.npy',\n",
       " 'U_all.npy',\n",
       " 'alpha_all.npy',\n",
       " 'calibration.json',\n",
       " 'metrics.json',\n",
       " 'price.csv']"
      ]
     },
     "execution_count": 11,
     "metadata": {},
     "output_type": "execute_result"
    }
   ],
   "source": [
    "# Persistência de artefatos\n",
    "np.save(REPORT_DIR / 'U_all.npy', U_all)\n",
    "np.save(REPORT_DIR / 'M_all.npy', M_all)\n",
    "np.save(REPORT_DIR / 'alpha_all.npy', alpha_all)\n",
    "with open(REPORT_DIR / 'metrics.json', 'w', encoding='utf-8') as fp:\n",
    "    json.dump(run_metrics, fp, indent=2)\n",
    "if price_results is not None:\n",
    "    np.savetxt(REPORT_DIR / 'price.csv', np.column_stack((grid.t, price_results)), delimiter=',', header='time,price', comments='')\n",
    "sorted(p.name for p in REPORT_DIR.iterdir())"
   ]
  },
  {
   "cell_type": "code",
   "execution_count": 12,
   "metadata": {},
   "outputs": [
    {
     "data": {
      "text/plain": [
       "['M_all.npy',\n",
       " 'U_all.npy',\n",
       " 'alpha_all.npy',\n",
       " 'alpha_cuts.png',\n",
       " 'calibration.json',\n",
       " 'convergence.png',\n",
       " 'density.png',\n",
       " 'metrics.json',\n",
       " 'price.csv',\n",
       " 'price.png',\n",
       " 'value.png']"
      ]
     },
     "execution_count": 12,
     "metadata": {},
     "output_type": "execute_result"
    }
   ],
   "source": [
    "# Gráficos padrão\n",
    "plot_density_time(M_all, grid, REPORT_DIR / 'density.png')\n",
    "plot_value_time(U_all, grid, REPORT_DIR / 'value.png')\n",
    "plot_alpha_cuts(alpha_all, grid, times=[0.0, 0.25 * grid.T, 0.5 * grid.T], path=REPORT_DIR / 'alpha_cuts.png')\n",
    "plot_convergence(errors, REPORT_DIR / 'convergence.png')\n",
    "if price_results is not None:\n",
    "    plot_price(grid.t, price_results, REPORT_DIR / 'price.png')\n",
    "sorted(p.name for p in REPORT_DIR.iterdir())"
   ]
  },
  {
   "cell_type": "code",
   "execution_count": 13,
   "metadata": {},
   "outputs": [
    {
     "data": {
      "text/plain": [
       "{'output_dir': 'c:\\\\Users\\\\Cockles\\\\Documents\\\\GitHub\\\\mfg-for-financial-market\\\\notebooks_output\\\\run-20251019-194056',\n",
       " 'iterations': 120,\n",
       " 'final_error': 113.1437996319017,\n",
       " 'mean_abs_alpha': 0.8181875258917322,\n",
       " 'std_alpha': 3.3190957227011433,\n",
       " 'liquidity_proxy': 0.6068200556999621,\n",
       " 'price_mean': -5.502418646749282,\n",
       " 'price_std': 0.3636086248062095}"
      ]
     },
     "execution_count": 13,
     "metadata": {},
     "output_type": "execute_result"
    }
   ],
   "source": [
    "# Resumo final amigável\n",
    "summary_display = {\n",
    "    'output_dir': str(REPORT_DIR),\n",
    "    'iterations': run_metrics.get('iterations'),\n",
    "    'final_error': run_metrics.get('final_error'),\n",
    "    'mean_abs_alpha': run_metrics.get('mean_abs_alpha'),\n",
    "    'std_alpha': run_metrics.get('std_alpha'),\n",
    "    'liquidity_proxy': run_metrics.get('liquidity_proxy'),\n",
    "    'price_mean': run_metrics.get('price_mean'),\n",
    "    'price_std': run_metrics.get('price_std'),\n",
    "}\n",
    "summary_display"
   ]
  }
 ],
 "metadata": {
  "kernelspec": {
   "display_name": "Python 3",
   "language": "python",
   "name": "python3"
  },
  "language_info": {
   "codemirror_mode": {
    "name": "ipython",
    "version": 3
   },
   "file_extension": ".py",
   "mimetype": "text/x-python",
   "name": "python",
   "nbconvert_exporter": "python",
   "pygments_lexer": "ipython3",
   "version": "3.12.4"
  }
 },
 "nbformat": 4,
 "nbformat_minor": 5
}
