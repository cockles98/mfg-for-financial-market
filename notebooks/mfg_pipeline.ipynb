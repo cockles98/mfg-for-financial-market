{
          "cells": [
                    {
                              "cell_type": "markdown",
                              "id": "f1cba36c",
                              "metadata": {},
                              "source": [
                                        "# Mean Field Game – Data-driven Pipeline\n",
                                        "\n",
                                        "Este notebook calibra o modelo com dados da B3, executa o solver LQ e explica cada etapa de forma intuitiva."
                              ]
                    },
                    {
                              "cell_type": "markdown",
                              "id": "d8544de5",
                              "metadata": {},
                              "source": [
                                        "## Narrativa geral\n",
                                        "- **Dados**: usamos COTAHIST limpo para extrair volatilidade, retornos, spreads e volume.\n",
                                        "- **Calibração**: heurísticas ajustam `nu`, `phi`, `gamma_T`, `eta0`, `eta1`.\n",
                                        "- **Solver**: executamos o Picard com salvaguardas.\n",
                                        "- **Relatórios**: resultados são salvos em `notebooks_output/`."
                              ]
                    },
                    {
                              "cell_type": "code",
                              "execution_count": 1,
                              "id": "f8e8b9d9",
                              "metadata": {},
                              "outputs": [],
                              "source": [
                                        "from __future__ import annotations\n",
                                        "\n",
                                        "import json\n",
                                        "from datetime import datetime\n",
                                        "from pathlib import Path\n",
                                        "\n",
                                        "import matplotlib.pyplot as plt\n",
                                        "import numpy as np\n",
                                        "import pandas as pd\n",
                                        "import yaml\n",
                                        "\n",
                                        "from IPython.display import display, Image\n",
                                        "import pprint\n",
                                        "\n",
                                        "from mfg_finance.grid import Grid1D\n",
                                        "from mfg_finance.models.hft import HFTParams, eta_from_m_alpha, initial_density\n",
                                        "from mfg_finance.price import solve_price_clearing\n",
                                        "from mfg_finance.solver import solve_mfg_picard\n",
                                        "from mfg_finance.viz import plot_alpha_cuts, plot_convergence, plot_density_time, plot_price, plot_value_time\n"
                              ]
                    },
                    {
                              "cell_type": "markdown",
                              "id": "522782b5",
                              "metadata": {},
                              "source": [
                                        "## 1. Configuração de diretórios\n"
                              ]
                    },
                    {
                              "cell_type": "code",
                              "execution_count": 2,
                              "id": "1c284873",
                              "metadata": {},
                              "outputs": [
                                        {
                                                  "name": "stdout",
                                                  "output_type": "stream",
                                                  "text": [
                                                            "Resultados serÃ£o salvos em: c:\\Users\\Cockles\\Documents\\GitHub\\mfg-for-financial-market\\notebooks_output\\run-20251019-221739\n"
                                                  ]
                                        },
                                        {
                                                  "data": {
                                                            "text/plain": [
                                                                      "WindowsPath('c:/Users/Cockles/Documents/GitHub/mfg-for-financial-market/notebooks_output/run-20251019-221739')"
                                                            ]
                                                  },
                                                  "execution_count": 2,
                                                  "metadata": {},
                                                  "output_type": "execute_result"
                                        }
                              ],
                              "source": [
                                        "ROOT = Path.cwd().parent\n",
                                        "DATA_PROCESSED = ROOT / 'data' / 'processed'\n",
                                        "OUTPUT_BASE = ROOT / 'notebooks_output'\n",
                                        "OUTPUT_BASE.mkdir(parents=True, exist_ok=True)\n",
                                        "\n",
                                        "timestamp = datetime.now().strftime('run-%Y%m%d-%H%M%S')\n",
                                        "REPORT_DIR = OUTPUT_BASE / timestamp\n",
                                        "REPORT_DIR.mkdir(parents=True, exist_ok=True)\n",
                                        "print(f'Resultados serÃ£o salvos em: {REPORT_DIR}')\n",
                                        "REPORT_DIR\n"
                              ]
                    },
                    {
                              "cell_type": "markdown",
                              "id": "6dd31007",
                              "metadata": {},
                              "source": [
                                        "## 2. Calibração heurí­stica\n"
                              ]
                    },
                    {
                              "cell_type": "markdown",
                              "id": "87547a37",
                              "metadata": {},
                              "source": [
                                        "## 2.1 Curva de oferta empírica\n",
                                        "Quantis de volume e spread usados no clearing."
                              ]
                    },
                    {
                              "cell_type": "code",
                              "execution_count": 3,
                              "id": "d56ef404",
                              "metadata": {},
                              "outputs": [
                                        {
                                                  "name": "stdout",
                                                  "output_type": "stream",
                                                  "text": [
                                                            "Curva de oferta por quantil:\n"
                                                  ]
                                        },
                                        {
                                                  "data": {
                                                            "text/html": [
                                                                      "<div>\n",
                                                                      "<style scoped>\n",
                                                                      "    .dataframe tbody tr th:only-of-type {\n",
                                                                      "        vertical-align: middle;\n",
                                                                      "    }\n",
                                                                      "\n",
                                                                      "    .dataframe tbody tr th {\n",
                                                                      "        vertical-align: top;\n",
                                                                      "    }\n",
                                                                      "\n",
                                                                      "    .dataframe thead th {\n",
                                                                      "        text-align: right;\n",
                                                                      "    }\n",
                                                                      "</style>\n",
                                                                      "<table border=\"1\" class=\"dataframe\">\n",
                                                                      "  <thead>\n",
                                                                      "    <tr style=\"text-align: right;\">\n",
                                                                      "      <th></th>\n",
                                                                      "      <th>quantile</th>\n",
                                                                      "      <th>volume_shares</th>\n",
                                                                      "      <th>dollar_volume</th>\n",
                                                                      "      <th>spread_rel</th>\n",
                                                                      "    </tr>\n",
                                                                      "  </thead>\n",
                                                                      "  <tbody>\n",
                                                                      "    <tr>\n",
                                                                      "      <th>0</th>\n",
                                                                      "      <td>0.10</td>\n",
                                                                      "      <td>7.720811e+01</td>\n",
                                                                      "      <td>4.525726e+03</td>\n",
                                                                      "      <td>0.000001</td>\n",
                                                                      "    </tr>\n",
                                                                      "    <tr>\n",
                                                                      "      <th>1</th>\n",
                                                                      "      <td>0.25</td>\n",
                                                                      "      <td>2.778425e+02</td>\n",
                                                                      "      <td>2.605614e+04</td>\n",
                                                                      "      <td>0.000555</td>\n",
                                                                      "    </tr>\n",
                                                                      "    <tr>\n",
                                                                      "      <th>2</th>\n",
                                                                      "      <td>0.50</td>\n",
                                                                      "      <td>1.638515e+03</td>\n",
                                                                      "      <td>1.009712e+05</td>\n",
                                                                      "      <td>0.007264</td>\n",
                                                                      "    </tr>\n",
                                                                      "    <tr>\n",
                                                                      "      <th>3</th>\n",
                                                                      "      <td>0.75</td>\n",
                                                                      "      <td>6.462602e+04</td>\n",
                                                                      "      <td>8.266747e+05</td>\n",
                                                                      "      <td>0.029996</td>\n",
                                                                      "    </tr>\n",
                                                                      "    <tr>\n",
                                                                      "      <th>4</th>\n",
                                                                      "      <td>0.90</td>\n",
                                                                      "      <td>1.583355e+06</td>\n",
                                                                      "      <td>1.956802e+07</td>\n",
                                                                      "      <td>0.099771</td>\n",
                                                                      "    </tr>\n",
                                                                      "  </tbody>\n",
                                                                      "</table>\n",
                                                                      "</div>"
                                                            ],
                                                            "text/plain": [
                                                                      "   quantile  volume_shares  dollar_volume  spread_rel\n",
                                                                      "0      0.10   7.720811e+01   4.525726e+03    0.000001\n",
                                                                      "1      0.25   2.778425e+02   2.605614e+04    0.000555\n",
                                                                      "2      0.50   1.638515e+03   1.009712e+05    0.007264\n",
                                                                      "3      0.75   6.462602e+04   8.266747e+05    0.029996\n",
                                                                      "4      0.90   1.583355e+06   1.956802e+07    0.099771"
                                                            ]
                                                  },
                                                  "metadata": {},
                                                  "output_type": "display_data"
                                        }
                              ],
                              "source": [
                                        "supply_path = DATA_PROCESSED / 'supply_curve.csv'\n",
                                        "if supply_path.exists():\n",
                                        "    supply_df = pd.read_csv(supply_path)\n",
                                        "    print('Curva de oferta por quantil:')\n",
                                        "    display(supply_df)\n",
                                        "else:\n",
                                        "    print('Arquivo supply_curve.csv nÃ£o encontrado; execute a calibração empÃírica.')\n"
                              ]
                    },
                    {
                              "cell_type": "code",
                              "execution_count": 4,
                              "id": "4a599dd6",
                              "metadata": {},
                              "outputs": [
                                        {
                                                  "name": "stdout",
                                                  "output_type": "stream",
                                                  "text": [
                                                            "Calibração heurí­stica:\n",
                                                            "{\n",
                                                            "  \"median_daily_std\": 0.0445486261341157,\n",
                                                            "  \"median_annual_vol\": 0.7071875160027775,\n",
                                                            "  \"upper_quartile_vol\": 1.137724647706284,\n",
                                                            "  \"nu\": 0.001985,\n",
                                                            "  \"phi\": 0.035359,\n",
                                                            "  \"gamma_T\": 0.568862\n",
                                                            "}\n"
                                                  ]
                                        },
                                        {
                                                  "data": {
                                                            "text/html": [
                                                                      "<div>\n",
                                                                      "<style scoped>\n",
                                                                      "    .dataframe tbody tr th:only-of-type {\n",
                                                                      "        vertical-align: middle;\n",
                                                                      "    }\n",
                                                                      "\n",
                                                                      "    .dataframe tbody tr th {\n",
                                                                      "        vertical-align: top;\n",
                                                                      "    }\n",
                                                                      "\n",
                                                                      "    .dataframe thead th {\n",
                                                                      "        text-align: right;\n",
                                                                      "    }\n",
                                                                      "</style>\n",
                                                                      "<table border=\"1\" class=\"dataframe\">\n",
                                                                      "  <thead>\n",
                                                                      "    <tr style=\"text-align: right;\">\n",
                                                                      "      <th></th>\n",
                                                                      "      <th>median_daily_std</th>\n",
                                                                      "      <th>median_annual_vol</th>\n",
                                                                      "      <th>upper_quartile_vol</th>\n",
                                                                      "      <th>nu</th>\n",
                                                                      "      <th>phi</th>\n",
                                                                      "      <th>gamma_T</th>\n",
                                                                      "    </tr>\n",
                                                                      "  </thead>\n",
                                                                      "  <tbody>\n",
                                                                      "    <tr>\n",
                                                                      "      <th>0</th>\n",
                                                                      "      <td>0.044549</td>\n",
                                                                      "      <td>0.707188</td>\n",
                                                                      "      <td>1.137725</td>\n",
                                                                      "      <td>0.001985</td>\n",
                                                                      "      <td>0.035359</td>\n",
                                                                      "      <td>0.568862</td>\n",
                                                                      "    </tr>\n",
                                                                      "  </tbody>\n",
                                                                      "</table>\n",
                                                                      "</div>"
                                                            ],
                                                            "text/plain": [
                                                                      "   median_daily_std  median_annual_vol  upper_quartile_vol        nu  \\\n",
                                                                      "0          0.044549           0.707188            1.137725  0.001985   \n",
                                                                      "\n",
                                                                      "        phi   gamma_T  \n",
                                                                      "0  0.035359  0.568862  "
                                                            ]
                                                  },
                                                  "metadata": {},
                                                  "output_type": "display_data"
                                        }
                              ],
                              "source": [
                                        "asset_summary = pd.read_csv(DATA_PROCESSED / 'cotahist_asset_summary.csv')\n",
                                        "asset_summary = asset_summary.replace([np.inf, -np.inf], np.nan).dropna(subset=['std_log_return', 'annualised_vol'])\n",
                                        "median_daily_std = float(asset_summary['std_log_return'].median())\n",
                                        "median_annual_vol = float(asset_summary['annualised_vol'].median())\n",
                                        "upper_quartile_vol = float(asset_summary['annualised_vol'].quantile(0.75))\n",
                                        "\n",
                                        "nu = median_daily_std ** 2\n",
                                        "phi = median_annual_vol / 20.0\n",
                                        "gamma_T = upper_quartile_vol * 0.5\n",
                                        "\n",
                                        "calibration_summary = {\n",
                                        "    'median_daily_std': median_daily_std,\n",
                                        "    'median_annual_vol': median_annual_vol,\n",
                                        "    'upper_quartile_vol': upper_quartile_vol,\n",
                                        "    'nu': round(nu, 6),\n",
                                        "    'phi': round(phi, 6),\n",
                                        "    'gamma_T': round(gamma_T, 6),\n",
                                        "}\n",
                                        "with open(REPORT_DIR / 'calibration.json', 'w', encoding='utf-8') as fp:\n",
                                        "    json.dump(calibration_summary, fp, indent=2)\n",
                                        "print('Calibração heurí­stica:')\n",
                                        "print(json.dumps(calibration_summary, indent=2))\n",
                                        "calibration_summary\n",
                                        "calibration_df = pd.DataFrame([calibration_summary])\n",
                                        "display(calibration_df)\n"
                              ]
                    },
                    {
                              "cell_type": "markdown",
                              "id": "c53c806e",
                              "metadata": {},
                              "source": [
                                        "## 3. Atualizar baseline\n"
                              ]
                    },
                    {
                              "cell_type": "code",
                              "execution_count": 5,
                              "id": "48308531",
                              "metadata": {},
                              "outputs": [
                                        {
                                                  "name": "stdout",
                                                  "output_type": "stream",
                                                  "text": [
                                                            "Parametros atualizados do baseline:\n",
                                                            "{\n",
                                                            "  \"nu\": 0.001985,\n",
                                                            "  \"phi\": 0.035359,\n",
                                                            "  \"gamma_T\": 0.568862,\n",
                                                            "  \"eta0\": 0.000555,\n",
                                                            "  \"eta1\": 0.029442,\n",
                                                            "  \"m0_mean\": 0.0,\n",
                                                            "  \"m0_std\": 1.0\n",
                                                            "}\n"
                                                  ]
                                        },
                                        {
                                                  "data": {
                                                            "text/html": [
                                                                      "<div>\n",
                                                                      "<style scoped>\n",
                                                                      "    .dataframe tbody tr th:only-of-type {\n",
                                                                      "        vertical-align: middle;\n",
                                                                      "    }\n",
                                                                      "\n",
                                                                      "    .dataframe tbody tr th {\n",
                                                                      "        vertical-align: top;\n",
                                                                      "    }\n",
                                                                      "\n",
                                                                      "    .dataframe thead th {\n",
                                                                      "        text-align: right;\n",
                                                                      "    }\n",
                                                                      "</style>\n",
                                                                      "<table border=\"1\" class=\"dataframe\">\n",
                                                                      "  <thead>\n",
                                                                      "    <tr style=\"text-align: right;\">\n",
                                                                      "      <th></th>\n",
                                                                      "      <th>nu</th>\n",
                                                                      "      <th>phi</th>\n",
                                                                      "      <th>gamma_T</th>\n",
                                                                      "      <th>eta0</th>\n",
                                                                      "      <th>eta1</th>\n",
                                                                      "      <th>m0_mean</th>\n",
                                                                      "      <th>m0_std</th>\n",
                                                                      "    </tr>\n",
                                                                      "  </thead>\n",
                                                                      "  <tbody>\n",
                                                                      "    <tr>\n",
                                                                      "      <th>0</th>\n",
                                                                      "      <td>0.001985</td>\n",
                                                                      "      <td>0.035359</td>\n",
                                                                      "      <td>0.568862</td>\n",
                                                                      "      <td>0.000555</td>\n",
                                                                      "      <td>0.029442</td>\n",
                                                                      "      <td>0.0</td>\n",
                                                                      "      <td>1.0</td>\n",
                                                                      "    </tr>\n",
                                                                      "  </tbody>\n",
                                                                      "</table>\n",
                                                                      "</div>"
                                                            ],
                                                            "text/plain": [
                                                                      "         nu       phi   gamma_T      eta0      eta1  m0_mean  m0_std\n",
                                                                      "0  0.001985  0.035359  0.568862  0.000555  0.029442      0.0     1.0"
                                                            ]
                                                  },
                                                  "metadata": {},
                                                  "output_type": "display_data"
                                        }
                              ],
                              "source": [
                                        "baseline_path = ROOT / 'mfg-finance' / 'configs' / 'baseline.yaml'\n",
                                        "with open(baseline_path, 'r', encoding='utf-8') as fp:\n",
                                        "    baseline_cfg = yaml.safe_load(fp)\n",
                                        "baseline_cfg.setdefault('params', {})\n",
                                        "baseline_cfg['params']['nu'] = calibration_summary['nu']\n",
                                        "baseline_cfg['params']['phi'] = calibration_summary['phi']\n",
                                        "baseline_cfg['params']['gamma_T'] = calibration_summary['gamma_T']\n",
                                        "with open(baseline_path, 'w', encoding='utf-8') as fp:\n",
                                        "    yaml.safe_dump(baseline_cfg, fp, sort_keys=False)\n",
                                        "print('Parametros atualizados do baseline:')\n",
                                        "print(json.dumps(baseline_cfg['params'], indent=2))\n",
                                        "baseline_cfg['params']\n",
                                        "display(pd.DataFrame([baseline_cfg['params']]))\n"
                              ]
                    },
                    {
                              "cell_type": "markdown",
                              "id": "d17e62cb",
                              "metadata": {},
                              "source": [
                                        "## 4. Construção do grid e parametros\n"
                              ]
                    },
                    {
                              "cell_type": "code",
                              "execution_count": 6,
                              "id": "e7ba1cb3",
                              "metadata": {},
                              "outputs": [
                                        {
                                                  "name": "stdout",
                                                  "output_type": "stream",
                                                  "text": [
                                                            "Grid configurado:\n",
                                                            "Grid1D(x_min=-5.0, x_max=5.0, nx=201, T=0.5, nt=150, bc='neumann', dx=0.04999999999999982, dt=0.0033333333333333335, x=array([-5.  , -4.95, -4.9 , -4.85, -4.8 , -4.75, -4.7 , -4.65, -4.6 ,\n",
                                                            "       -4.55, -4.5 , -4.45, -4.4 , -4.35, -4.3 , -4.25, -4.2 , -4.15,\n",
                                                            "       -4.1 , -4.05, -4.  , -3.95, -3.9 , -3.85, -3.8 , -3.75, -3.7 ,\n",
                                                            "       -3.65, -3.6 , -3.55, -3.5 , -3.45, -3.4 , -3.35, -3.3 , -3.25,\n",
                                                            "       -3.2 , -3.15, -3.1 , -3.05, -3.  , -2.95, -2.9 , -2.85, -2.8 ,\n",
                                                            "       -2.75, -2.7 , -2.65, -2.6 , -2.55, -2.5 , -2.45, -2.4 , -2.35,\n",
                                                            "       -2.3 , -2.25, -2.2 , -2.15, -2.1 , -2.05, -2.  , -1.95, -1.9 ,\n",
                                                            "       -1.85, -1.8 , -1.75, -1.7 , -1.65, -1.6 , -1.55, -1.5 , -1.45,\n",
                                                            "       -1.4 , -1.35, -1.3 , -1.25, -1.2 , -1.15, -1.1 , -1.05, -1.  ,\n",
                                                            "       -0.95, -0.9 , -0.85, -0.8 , -0.75, -0.7 , -0.65, -0.6 , -0.55,\n",
                                                            "       -0.5 , -0.45, -0.4 , -0.35, -0.3 , -0.25, -0.2 , -0.15, -0.1 ,\n",
                                                            "       -0.05,  0.  ,  0.05,  0.1 ,  0.15,  0.2 ,  0.25,  0.3 ,  0.35,\n",
                                                            "        0.4 ,  0.45,  0.5 ,  0.55,  0.6 ,  0.65,  0.7 ,  0.75,  0.8 ,\n",
                                                            "        0.85,  0.9 ,  0.95,  1.  ,  1.05,  1.1 ,  1.15,  1.2 ,  1.25,\n",
                                                            "        1.3 ,  1.35,  1.4 ,  1.45,  1.5 ,  1.55,  1.6 ,  1.65,  1.7 ,\n",
                                                            "        1.75,  1.8 ,  1.85,  1.9 ,  1.95,  2.  ,  2.05,  2.1 ,  2.15,\n",
                                                            "        2.2 ,  2.25,  2.3 ,  2.35,  2.4 ,  2.45,  2.5 ,  2.55,  2.6 ,\n",
                                                            "        2.65,  2.7 ,  2.75,  2.8 ,  2.85,  2.9 ,  2.95,  3.  ,  3.05,\n",
                                                            "        3.1 ,  3.15,  3.2 ,  3.25,  3.3 ,  3.35,  3.4 ,  3.45,  3.5 ,\n",
                                                            "        3.55,  3.6 ,  3.65,  3.7 ,  3.75,  3.8 ,  3.85,  3.9 ,  3.95,\n",
                                                            "        4.  ,  4.05,  4.1 ,  4.15,  4.2 ,  4.25,  4.3 ,  4.35,  4.4 ,\n",
                                                            "        4.45,  4.5 ,  4.55,  4.6 ,  4.65,  4.7 ,  4.75,  4.8 ,  4.85,\n",
                                                            "        4.9 ,  4.95,  5.  ]), t=array([0.        , 0.00333333, 0.00666667, 0.01      , 0.01333333,\n",
                                                            "       0.01666667, 0.02      , 0.02333333, 0.02666667, 0.03      ,\n",
                                                            "       0.03333333, 0.03666667, 0.04      , 0.04333333, 0.04666667,\n",
                                                            "       0.05      , 0.05333333, 0.05666667, 0.06      , 0.06333333,\n",
                                                            "       0.06666667, 0.07      , 0.07333333, 0.07666667, 0.08      ,\n",
                                                            "       0.08333333, 0.08666667, 0.09      , 0.09333333, 0.09666667,\n",
                                                            "       0.1       , 0.10333333, 0.10666667, 0.11      , 0.11333333,\n",
                                                            "       0.11666667, 0.12      , 0.12333333, 0.12666667, 0.13      ,\n",
                                                            "       0.13333333, 0.13666667, 0.14      , 0.14333333, 0.14666667,\n",
                                                            "       0.15      , 0.15333333, 0.15666667, 0.16      , 0.16333333,\n",
                                                            "       0.16666667, 0.17      , 0.17333333, 0.17666667, 0.18      ,\n",
                                                            "       0.18333333, 0.18666667, 0.19      , 0.19333333, 0.19666667,\n",
                                                            "       0.2       , 0.20333333, 0.20666667, 0.21      , 0.21333333,\n",
                                                            "       0.21666667, 0.22      , 0.22333333, 0.22666667, 0.23      ,\n",
                                                            "       0.23333333, 0.23666667, 0.24      , 0.24333333, 0.24666667,\n",
                                                            "       0.25      , 0.25333333, 0.25666667, 0.26      , 0.26333333,\n",
                                                            "       0.26666667, 0.27      , 0.27333333, 0.27666667, 0.28      ,\n",
                                                            "       0.28333333, 0.28666667, 0.29      , 0.29333333, 0.29666667,\n",
                                                            "       0.3       , 0.30333333, 0.30666667, 0.31      , 0.31333333,\n",
                                                            "       0.31666667, 0.32      , 0.32333333, 0.32666667, 0.33      ,\n",
                                                            "       0.33333333, 0.33666667, 0.34      , 0.34333333, 0.34666667,\n",
                                                            "       0.35      , 0.35333333, 0.35666667, 0.36      , 0.36333333,\n",
                                                            "       0.36666667, 0.37      , 0.37333333, 0.37666667, 0.38      ,\n",
                                                            "       0.38333333, 0.38666667, 0.39      , 0.39333333, 0.39666667,\n",
                                                            "       0.4       , 0.40333333, 0.40666667, 0.41      , 0.41333333,\n",
                                                            "       0.41666667, 0.42      , 0.42333333, 0.42666667, 0.43      ,\n",
                                                            "       0.43333333, 0.43666667, 0.44      , 0.44333333, 0.44666667,\n",
                                                            "       0.45      , 0.45333333, 0.45666667, 0.46      , 0.46333333,\n",
                                                            "       0.46666667, 0.47      , 0.47333333, 0.47666667, 0.48      ,\n",
                                                            "       0.48333333, 0.48666667, 0.49      , 0.49333333, 0.49666667,\n",
                                                            "       0.5       ]))\n",
                                                            "Parametros HFT:\n",
                                                            "HFTParams(nu=0.001985, phi=0.035359, gamma_T=0.568862, eta0=0.000555, eta1=0.029442, m0_mean=0.0, m0_std=1.0)\n"
                                                  ]
                                        },
                                        {
                                                  "data": {
                                                            "text/plain": [
                                                                      "(Grid1D(x_min=-5.0, x_max=5.0, nx=201, T=0.5, nt=150, bc='neumann', dx=0.04999999999999982, dt=0.0033333333333333335, x=array([-5.  , -4.95, -4.9 , -4.85, -4.8 , -4.75, -4.7 , -4.65, -4.6 ,\n",
                                                                      "        -4.55, -4.5 , -4.45, -4.4 , -4.35, -4.3 , -4.25, -4.2 , -4.15,\n",
                                                                      "        -4.1 , -4.05, -4.  , -3.95, -3.9 , -3.85, -3.8 , -3.75, -3.7 ,\n",
                                                                      "        -3.65, -3.6 , -3.55, -3.5 , -3.45, -3.4 , -3.35, -3.3 , -3.25,\n",
                                                                      "        -3.2 , -3.15, -3.1 , -3.05, -3.  , -2.95, -2.9 , -2.85, -2.8 ,\n",
                                                                      "        -2.75, -2.7 , -2.65, -2.6 , -2.55, -2.5 , -2.45, -2.4 , -2.35,\n",
                                                                      "        -2.3 , -2.25, -2.2 , -2.15, -2.1 , -2.05, -2.  , -1.95, -1.9 ,\n",
                                                                      "        -1.85, -1.8 , -1.75, -1.7 , -1.65, -1.6 , -1.55, -1.5 , -1.45,\n",
                                                                      "        -1.4 , -1.35, -1.3 , -1.25, -1.2 , -1.15, -1.1 , -1.05, -1.  ,\n",
                                                                      "        -0.95, -0.9 , -0.85, -0.8 , -0.75, -0.7 , -0.65, -0.6 , -0.55,\n",
                                                                      "        -0.5 , -0.45, -0.4 , -0.35, -0.3 , -0.25, -0.2 , -0.15, -0.1 ,\n",
                                                                      "        -0.05,  0.  ,  0.05,  0.1 ,  0.15,  0.2 ,  0.25,  0.3 ,  0.35,\n",
                                                                      "         0.4 ,  0.45,  0.5 ,  0.55,  0.6 ,  0.65,  0.7 ,  0.75,  0.8 ,\n",
                                                                      "         0.85,  0.9 ,  0.95,  1.  ,  1.05,  1.1 ,  1.15,  1.2 ,  1.25,\n",
                                                                      "         1.3 ,  1.35,  1.4 ,  1.45,  1.5 ,  1.55,  1.6 ,  1.65,  1.7 ,\n",
                                                                      "         1.75,  1.8 ,  1.85,  1.9 ,  1.95,  2.  ,  2.05,  2.1 ,  2.15,\n",
                                                                      "         2.2 ,  2.25,  2.3 ,  2.35,  2.4 ,  2.45,  2.5 ,  2.55,  2.6 ,\n",
                                                                      "         2.65,  2.7 ,  2.75,  2.8 ,  2.85,  2.9 ,  2.95,  3.  ,  3.05,\n",
                                                                      "         3.1 ,  3.15,  3.2 ,  3.25,  3.3 ,  3.35,  3.4 ,  3.45,  3.5 ,\n",
                                                                      "         3.55,  3.6 ,  3.65,  3.7 ,  3.75,  3.8 ,  3.85,  3.9 ,  3.95,\n",
                                                                      "         4.  ,  4.05,  4.1 ,  4.15,  4.2 ,  4.25,  4.3 ,  4.35,  4.4 ,\n",
                                                                      "         4.45,  4.5 ,  4.55,  4.6 ,  4.65,  4.7 ,  4.75,  4.8 ,  4.85,\n",
                                                                      "         4.9 ,  4.95,  5.  ]), t=array([0.        , 0.00333333, 0.00666667, 0.01      , 0.01333333,\n",
                                                                      "        0.01666667, 0.02      , 0.02333333, 0.02666667, 0.03      ,\n",
                                                                      "        0.03333333, 0.03666667, 0.04      , 0.04333333, 0.04666667,\n",
                                                                      "        0.05      , 0.05333333, 0.05666667, 0.06      , 0.06333333,\n",
                                                                      "        0.06666667, 0.07      , 0.07333333, 0.07666667, 0.08      ,\n",
                                                                      "        0.08333333, 0.08666667, 0.09      , 0.09333333, 0.09666667,\n",
                                                                      "        0.1       , 0.10333333, 0.10666667, 0.11      , 0.11333333,\n",
                                                                      "        0.11666667, 0.12      , 0.12333333, 0.12666667, 0.13      ,\n",
                                                                      "        0.13333333, 0.13666667, 0.14      , 0.14333333, 0.14666667,\n",
                                                                      "        0.15      , 0.15333333, 0.15666667, 0.16      , 0.16333333,\n",
                                                                      "        0.16666667, 0.17      , 0.17333333, 0.17666667, 0.18      ,\n",
                                                                      "        0.18333333, 0.18666667, 0.19      , 0.19333333, 0.19666667,\n",
                                                                      "        0.2       , 0.20333333, 0.20666667, 0.21      , 0.21333333,\n",
                                                                      "        0.21666667, 0.22      , 0.22333333, 0.22666667, 0.23      ,\n",
                                                                      "        0.23333333, 0.23666667, 0.24      , 0.24333333, 0.24666667,\n",
                                                                      "        0.25      , 0.25333333, 0.25666667, 0.26      , 0.26333333,\n",
                                                                      "        0.26666667, 0.27      , 0.27333333, 0.27666667, 0.28      ,\n",
                                                                      "        0.28333333, 0.28666667, 0.29      , 0.29333333, 0.29666667,\n",
                                                                      "        0.3       , 0.30333333, 0.30666667, 0.31      , 0.31333333,\n",
                                                                      "        0.31666667, 0.32      , 0.32333333, 0.32666667, 0.33      ,\n",
                                                                      "        0.33333333, 0.33666667, 0.34      , 0.34333333, 0.34666667,\n",
                                                                      "        0.35      , 0.35333333, 0.35666667, 0.36      , 0.36333333,\n",
                                                                      "        0.36666667, 0.37      , 0.37333333, 0.37666667, 0.38      ,\n",
                                                                      "        0.38333333, 0.38666667, 0.39      , 0.39333333, 0.39666667,\n",
                                                                      "        0.4       , 0.40333333, 0.40666667, 0.41      , 0.41333333,\n",
                                                                      "        0.41666667, 0.42      , 0.42333333, 0.42666667, 0.43      ,\n",
                                                                      "        0.43333333, 0.43666667, 0.44      , 0.44333333, 0.44666667,\n",
                                                                      "        0.45      , 0.45333333, 0.45666667, 0.46      , 0.46333333,\n",
                                                                      "        0.46666667, 0.47      , 0.47333333, 0.47666667, 0.48      ,\n",
                                                                      "        0.48333333, 0.48666667, 0.49      , 0.49333333, 0.49666667,\n",
                                                                      "        0.5       ])),\n",
                                                                      " HFTParams(nu=0.001985, phi=0.035359, gamma_T=0.568862, eta0=0.000555, eta1=0.029442, m0_mean=0.0, m0_std=1.0))"
                                                            ]
                                                  },
                                                  "execution_count": 6,
                                                  "metadata": {},
                                                  "output_type": "execute_result"
                                        }
                              ],
                              "source": [
                                        "grid_cfg = baseline_cfg['grid']\n",
                                        "solver_cfg = baseline_cfg.get('solver', {})\n",
                                        "params_cfg = baseline_cfg['params']\n",
                                        "grid = Grid1D(\n",
                                        "    x_min=float(grid_cfg['x_min']),\n",
                                        "    x_max=float(grid_cfg['x_max']),\n",
                                        "    nx=int(grid_cfg['nx']),\n",
                                        "    T=float(grid_cfg['T']),\n",
                                        "    nt=int(grid_cfg['nt']),\n",
                                        "    bc=str(grid_cfg.get('bc', 'neumann')),\n",
                                        ")\n",
                                        "params = HFTParams(\n",
                                        "    nu=float(params_cfg['nu']),\n",
                                        "    phi=float(params_cfg['phi']),\n",
                                        "    gamma_T=float(params_cfg['gamma_T']),\n",
                                        "    eta0=float(params_cfg.get('eta0', 0.5)),\n",
                                        "    eta1=float(params_cfg.get('eta1', 0.8)),\n",
                                        "    m0_mean=float(params_cfg.get('m0_mean', 0.0)),\n",
                                        "    m0_std=float(params_cfg.get('m0_std', 1.0)),\n",
                                        ")\n",
                                        "print('Grid configurado:')\n",
                                        "print(grid)\n",
                                        "print('Parametros HFT:')\n",
                                        "print(params)\n",
                                        "grid, params\n"
                              ]
                    },
                    {
                              "cell_type": "markdown",
                              "id": "2ee6a1e8",
                              "metadata": {},
                              "source": [
                                        "## 5. Executar solver\n"
                              ]
                    },
                    {
                              "cell_type": "code",
                              "execution_count": null,
                              "id": "14402d79",
                              "metadata": {},
                              "outputs": [],
                              "source": [
                                        "m0 = initial_density(grid, params)\n",
                                        "hjb_kwargs = {\n",
                                        "    'max_inner': 3,\n",
                                        "    'tol': 1e-8,\n",
                                        "    'max_dissipation': 1.0,\n",
                                        "    'alpha_cap': 1.0,\n",
                                        "    'value_cap': 40.0,\n",
                                        "    'value_relaxation': 0.5,\n",
                                        "}\n",
                                        "solver_mix = float(solver_cfg.get('mix', 0.6))\n",
                                        "U_all, M_all, alpha_all, errors, metrics = solve_mfg_picard(\n",
                                        "    grid,\n",
                                        "    params,\n",
                                        "    max_iter=int(solver_cfg.get('max_iter', 120)),\n",
                                        "    tol=float(solver_cfg.get('tol', 1e-6)),\n",
                                        "    mix=solver_mix,\n",
                                        "    m0=m0,\n",
                                        "    hjb_kwargs=hjb_kwargs,\n",
                                        "    eta_callback=eta_from_m_alpha,\n",
                                        ")\n",
                                        "run_metrics = {\n",
                                        "    'iterations': len(errors),\n",
                                        "    'final_error': float(errors[-1]) if errors else None,\n",
                                        "    **metrics,\n",
                                        "}\n",
                                        "print('Metricas da simulacao:')\n",
                                        "for k, v in run_metrics.items():\n",
                                        "    print(f'  {k}: {v}')\n",
                                        "run_metrics\n",
                                        "display(pd.DataFrame([run_metrics]))\n"
                              ]
                    },
                    {
                              "cell_type": "markdown",
                              "id": "b6e50e19",
                              "metadata": {},
                              "source": [
                                        "## 6. Clearing de preço (opcional)\n"
                              ]
                    },
                    {
                              "cell_type": "code",
                              "execution_count": 7,
                              "id": "1d0a2c50",
                              "metadata": {},
                              "outputs": [
                                        {
                                                  "name": "stdout",
                                                  "output_type": "stream",
                                                  "text": [
                                                            "PreÃƒÂ§o mÃƒÂ©dio: -0.1754 | desvio: 0.0621\n"
                                                  ]
                                        },
                                        {
                                                  "data": {
                                                            "text/plain": [
                                                                      "{'iterations': 120,\n",
                                                                      " 'final_error': 53.28399023368082,\n",
                                                                      " 'mean_abs_alpha': 0.027159465988757323,\n",
                                                                      " 'std_alpha': 0.40665119527234683,\n",
                                                                      " 'liquidity_proxy': 0.9857394247738452,\n",
                                                                      " 'price_mean': -0.17536829293563666,\n",
                                                                      " 'price_std': 0.06210999179181633}"
                                                            ]
                                                  },
                                                  "execution_count": 7,
                                                  "metadata": {},
                                                  "output_type": "execute_result"
                                        }
                              ],
                              "source": [
                                        "compute_price = True\n",
                                        "price_results = None\n",
                                        "if compute_price:\n",
                                        "    supply_schedule = np.zeros(len(grid.t))\n",
                                        "    sensitivity = 0.2\n",
                                        "    def alpha_field(idx: int, price: float) -> np.ndarray:\n",
                                        "        return alpha_all[idx] - sensitivity * price\n",
                                        "    prices = solve_price_clearing(alpha_field, M_all, supply_schedule, grid.dx)\n",
                                        "    price_results = prices\n",
                                        "    run_metrics['price_mean'] = float(np.mean(prices))\n",
                                        "    run_metrics['price_std'] = float(np.std(prices))\n",
                                        "if price_results is not None:\n",
                                        "    print(f\"Preço medio: {run_metrics.get('price_mean', 0.0):.4f} | desvio: {run_metrics.get('price_std', 0.0):.4f}\")\n",
                                        "else:\n",
                                        "    print('Clearing de preço desativado.')\n",
                                        "run_metrics\n"
                              ]
                    },
                    {
                              "cell_type": "markdown",
                              "id": "a5a2613a",
                              "metadata": {},
                              "source": [
                                        "## 7. Salvar artefatos\n"
                              ]
                    },
                    {
                              "cell_type": "code",
                              "execution_count": 8,
                              "id": "206102ae",
                              "metadata": {},
                              "outputs": [
                                        {
                                                  "name": "stdout",
                                                  "output_type": "stream",
                                                  "text": [
                                                            "Arquivos gerados:\n",
                                                            "  - M_all.npy\n",
                                                            "  - U_all.npy\n",
                                                            "  - alpha_all.npy\n",
                                                            "  - calibration.json\n",
                                                            "  - metrics.json\n",
                                                            "  - price.csv\n"
                                                  ]
                                        },
                                        {
                                                  "data": {
                                                            "text/plain": [
                                                                      "['M_all.npy',\n",
                                                                      " 'U_all.npy',\n",
                                                                      " 'alpha_all.npy',\n",
                                                                      " 'calibration.json',\n",
                                                                      " 'metrics.json',\n",
                                                                      " 'price.csv']"
                                                            ]
                                                  },
                                                  "execution_count": 8,
                                                  "metadata": {},
                                                  "output_type": "execute_result"
                                        }
                              ],
                              "source": [
                                        "np.save(REPORT_DIR / 'U_all.npy', U_all)\n",
                                        "np.save(REPORT_DIR / 'M_all.npy', M_all)\n",
                                        "np.save(REPORT_DIR / 'alpha_all.npy', alpha_all)\n",
                                        "with open(REPORT_DIR / 'metrics.json', 'w', encoding='utf-8') as fp:\n",
                                        "    json.dump(run_metrics, fp, indent=2)\n",
                                        "if price_results is not None:\n",
                                        "    np.savetxt(REPORT_DIR / 'price.csv', np.column_stack((grid.t, price_results)), delimiter=',', header='time,price', comments='')\n",
                                        "print('Arquivos gerados:')\n",
                                        "for name in sorted(p.name for p in REPORT_DIR.iterdir()):\n",
                                        "    print('  -', name)\n",
                                        "sorted(p.name for p in REPORT_DIR.iterdir())\n"
                              ]
                    },
                    {
                              "cell_type": "markdown",
                              "id": "356e805d",
                              "metadata": {},
                              "source": [
                                        "## 8. Visualizacoes\n"
                              ]
                    },
                    {
                              "cell_type": "code",
                              "execution_count": 9,
                              "id": "da7339cc",
                              "metadata": {},
                              "outputs": [
                                        {
                                                  "name": "stdout",
                                                  "output_type": "stream",
                                                  "text": [
                                                            "Figuras atualizadas em c:\\Users\\Cockles\\Documents\\GitHub\\mfg-for-financial-market\\notebooks_output\\run-20251019-214317\n"
                                                  ]
                                        },
                                        {
                                                  "data": {
                                                            "text/plain": [
                                                                      "['M_all.npy',\n",
                                                                      " 'U_all.npy',\n",
                                                                      " 'alpha_all.npy',\n",
                                                                      " 'alpha_cuts.png',\n",
                                                                      " 'calibration.json',\n",
                                                                      " 'convergence.png',\n",
                                                                      " 'density.png',\n",
                                                                      " 'metrics.json',\n",
                                                                      " 'price.csv',\n",
                                                                      " 'price.png',\n",
                                                                      " 'value.png']"
                                                            ]
                                                  },
                                                  "execution_count": 9,
                                                  "metadata": {},
                                                  "output_type": "execute_result"
                                        }
                              ],
                              "source": [
                                        "density_path = REPORT_DIR / 'density.png'\n",
                                        "value_path = REPORT_DIR / 'value.png'\n",
                                        "alpha_path = REPORT_DIR / 'alpha_cuts.png'\n",
                                        "conv_path = REPORT_DIR / 'convergence.png'\n",
                                        "price_path = REPORT_DIR / 'price.png'\n",
                                        "\n",
                                        "plot_density_time(M_all, grid, density_path)\n",
                                        "plot_value_time(U_all, grid, value_path)\n",
                                        "plot_alpha_cuts(alpha_all, grid, times=[0.0, 0.25 * grid.T, 0.5 * grid.T], path=alpha_path)\n",
                                        "plot_convergence(errors, conv_path)\n",
                                        "if price_results is not None:\n",
                                        "    plot_price(grid.t, price_results, price_path)\n",
                                        "\n",
                                        "print('Figuras salvas em', REPORT_DIR)\n",
                                        "display(Image(filename=density_path))\n",
                                        "display(Image(filename=value_path))\n",
                                        "display(Image(filename=alpha_path))\n",
                                        "display(Image(filename=conv_path))\n",
                                        "if price_results is not None:\n",
                                        "    display(Image(filename=price_path))\n"
                              ]
                    },
                    {
                              "cell_type": "markdown",
                              "id": "e59e77f8",
                              "metadata": {},
                              "source": [
                                        "## 9. Resumo final\n"
                              ]
                    },
                    {
                              "cell_type": "code",
                              "execution_count": 10,
                              "id": "cbf0995f",
                              "metadata": {},
                              "outputs": [
                                        {
                                                  "name": "stdout",
                                                  "output_type": "stream",
                                                  "text": [
                                                            "Resumo final:\n",
                                                            "  output_dir: c:\\Users\\Cockles\\Documents\\GitHub\\mfg-for-financial-market\\notebooks_output\\run-20251019-214317\n",
                                                            "  iterations: 120\n",
                                                            "  final_error: 53.28399023368082\n",
                                                            "  mean_abs_alpha: 0.027159465988757323\n",
                                                            "  std_alpha: 0.40665119527234683\n",
                                                            "  liquidity_proxy: 0.9857394247738452\n",
                                                            "  price_mean: -0.17536829293563666\n",
                                                            "  price_std: 0.06210999179181633\n"
                                                  ]
                                        },
                                        {
                                                  "data": {
                                                            "text/plain": [
                                                                      "{'output_dir': 'c:\\\\Users\\\\Cockles\\\\Documents\\\\GitHub\\\\mfg-for-financial-market\\\\notebooks_output\\\\run-20251019-214317',\n",
                                                                      " 'iterations': 120,\n",
                                                                      " 'final_error': 53.28399023368082,\n",
                                                                      " 'mean_abs_alpha': 0.027159465988757323,\n",
                                                                      " 'std_alpha': 0.40665119527234683,\n",
                                                                      " 'liquidity_proxy': 0.9857394247738452,\n",
                                                                      " 'price_mean': -0.17536829293563666,\n",
                                                                      " 'price_std': 0.06210999179181633}"
                                                            ]
                                                  },
                                                  "execution_count": 10,
                                                  "metadata": {},
                                                  "output_type": "execute_result"
                                        }
                              ],
                              "source": [
                                        "summary_display = {\n",
                                        "    'output_dir': str(REPORT_DIR),\n",
                                        "    'iterations': run_metrics.get('iterations'),\n",
                                        "    'final_error': run_metrics.get('final_error'),\n",
                                        "    'mean_abs_alpha': run_metrics.get('mean_abs_alpha'),\n",
                                        "    'std_alpha': run_metrics.get('std_alpha'),\n",
                                        "    'liquidity_proxy': run_metrics.get('liquidity_proxy'),\n",
                                        "    'price_mean': run_metrics.get('price_mean'),\n",
                                        "    'price_std': run_metrics.get('price_std'),\n",
                                        "}\n",
                                        "print('Resumo final:')\n",
                                        "for k, v in summary_display.items():\n",
                                        "    print(f'  {k}: {v}')\n",
                                        "summary_display\n",
                                        "summary_df = pd.DataFrame([summary_display])\n",
                                        "display(summary_df)\n"
                              ]
                    },
                    {
                              "cell_type": "markdown",
                              "id": "ae628670",
                              "metadata": {},
                              "source": [
                                        "## 10. Interpretando os gráficos\n",
                                        "- `density.png`: inventário ao longo do tempo.\n",
                                        "- `value.png`: função valor HJB.\n",
                                        "- `alpha_cuts.png`: agressividade em diferentes tempos.\n",
                                        "- `convergence.png`: evolução do erro.\n",
                                        "- `price.png`: preço de clearing (se habilitado).\n"
                              ]
                    },
                    {
                              "cell_type": "markdown",
                              "id": "e04b21dd",
                              "metadata": {},
                              "source": []
                    }
          ],
          "metadata": {
                    "kernelspec": {
                              "display_name": "Python 3",
                              "language": "python",
                              "name": "python3"
                    },
                    "language_info": {
                              "codemirror_mode": {
                                        "name": "ipython",
                                        "version": 3
                              },
                              "file_extension": ".py",
                              "mimetype": "text/x-python",
                              "name": "python",
                              "nbconvert_exporter": "python",
                              "pygments_lexer": "ipython3",
                              "version": "3.12.4"
                    }
          },
          "nbformat": 4,
          "nbformat_minor": 5
}
